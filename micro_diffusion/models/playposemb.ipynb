{
 "cells": [
  {
   "cell_type": "code",
   "execution_count": 1,
   "metadata": {},
   "outputs": [],
   "source": [
    "import numpy as np\n",
    "from itertools import repeat\n",
    "\n",
    "base_size = 16\n",
    "grid_size = 32\n",
    "interp_scale = 1.0\n",
    "\n",
    "grid_size = tuple(repeat(grid_size, 2))\n",
    "\n",
    "grid_h = np.arange (grid_size[0], dtype=np.float32) / (grid_size[0] / base_size) / interp_scale\n",
    "grid_w = np.arange (grid_size[1], dtype=np.float32) / (grid_size[1] / base_size) / interp_scale"
   ]
  },
  {
   "cell_type": "code",
   "execution_count": 12,
   "metadata": {},
   "outputs": [],
   "source": [
    "grid_h, grid_w\n",
    "grid = np.meshgrid(grid_w, grid_h)"
   ]
  },
  {
   "cell_type": "code",
   "execution_count": null,
   "metadata": {},
   "outputs": [
    {
     "data": {
      "text/plain": [
       "((32, 32), (32, 32))"
      ]
     },
     "execution_count": 3,
     "metadata": {},
     "output_type": "execute_result"
    }
   ],
   "source": [
    "# grid[0] stores x (width) co-ordinate grid[1] stores y (height) co-ordinates\n",
    "grid[0].shape, grid[1].shape"
   ]
  },
  {
   "cell_type": "code",
   "execution_count": 4,
   "metadata": {},
   "outputs": [
    {
     "data": {
      "text/plain": [
       "array([[ 0. ,  0.5,  1. , ..., 14.5, 15. , 15.5],\n",
       "       [ 0. ,  0.5,  1. , ..., 14.5, 15. , 15.5],\n",
       "       [ 0. ,  0.5,  1. , ..., 14.5, 15. , 15.5],\n",
       "       ...,\n",
       "       [ 0. ,  0.5,  1. , ..., 14.5, 15. , 15.5],\n",
       "       [ 0. ,  0.5,  1. , ..., 14.5, 15. , 15.5],\n",
       "       [ 0. ,  0.5,  1. , ..., 14.5, 15. , 15.5]], dtype=float32)"
      ]
     },
     "execution_count": 4,
     "metadata": {},
     "output_type": "execute_result"
    }
   ],
   "source": [
    "\n",
    "grid[0]"
   ]
  },
  {
   "cell_type": "markdown",
   "metadata": {},
   "source": [
    "- meshgrid repeats the row one time for each value in B\n",
    "- column in B one time for each value in a (B is basically columns)\n",
    "- representation :\n",
    "- (1,4) (2, 4)\n",
    "- (1,5)  (2, 5)\n",
    "- (1,6)  (2, 6)"
   ]
  },
  {
   "cell_type": "code",
   "execution_count": 5,
   "metadata": {},
   "outputs": [
    {
     "data": {
      "text/plain": [
       "[array([[1, 2],\n",
       "        [1, 2],\n",
       "        [1, 2]]),\n",
       " array([[4, 4],\n",
       "        [5, 5],\n",
       "        [6, 6]])]"
      ]
     },
     "execution_count": 5,
     "metadata": {},
     "output_type": "execute_result"
    }
   ],
   "source": [
    "a = [1,2]\n",
    "b = [4, 5, 6]\n",
    "\n",
    "c = np.meshgrid(a,b)\n",
    "c"
   ]
  },
  {
   "cell_type": "code",
   "execution_count": 6,
   "metadata": {},
   "outputs": [],
   "source": [
    "final_grid = np.stack(c, axis=0)"
   ]
  },
  {
   "cell_type": "code",
   "execution_count": 7,
   "metadata": {},
   "outputs": [
    {
     "data": {
      "text/plain": [
       "(2, 3, 2)"
      ]
     },
     "execution_count": 7,
     "metadata": {},
     "output_type": "execute_result"
    }
   ],
   "source": [
    "final_grid.shape"
   ]
  },
  {
   "cell_type": "markdown",
   "metadata": {},
   "source": [
    "- final_grid[0] is the x matrix\n",
    "- final_grid[1] is the y matrix"
   ]
  },
  {
   "cell_type": "code",
   "execution_count": 17,
   "metadata": {},
   "outputs": [
    {
     "data": {
      "text/plain": [
       "(2, 3, 2)"
      ]
     },
     "execution_count": 17,
     "metadata": {},
     "output_type": "execute_result"
    }
   ],
   "source": [
    "final_grid.shape"
   ]
  },
  {
   "cell_type": "code",
   "execution_count": 23,
   "metadata": {},
   "outputs": [
    {
     "data": {
      "text/plain": [
       "(array([[1, 2],\n",
       "        [1, 2],\n",
       "        [1, 2]]),\n",
       " array([[4, 4],\n",
       "        [5, 5],\n",
       "        [6, 6]]))"
      ]
     },
     "execution_count": 23,
     "metadata": {},
     "output_type": "execute_result"
    }
   ],
   "source": [
    "final_grid[0], final_grid[1]"
   ]
  },
  {
   "cell_type": "code",
   "execution_count": null,
   "metadata": {},
   "outputs": [],
   "source": []
  }
 ],
 "metadata": {
  "kernelspec": {
   "display_name": "tr",
   "language": "python",
   "name": "python3"
  },
  "language_info": {
   "codemirror_mode": {
    "name": "ipython",
    "version": 3
   },
   "file_extension": ".py",
   "mimetype": "text/x-python",
   "name": "python",
   "nbconvert_exporter": "python",
   "pygments_lexer": "ipython3",
   "version": "3.9.21"
  }
 },
 "nbformat": 4,
 "nbformat_minor": 2
}
