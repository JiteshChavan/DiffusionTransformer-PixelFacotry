{
 "cells": [
  {
   "cell_type": "code",
   "execution_count": 3,
   "metadata": {},
   "outputs": [
    {
     "data": {
      "text/plain": [
       "False"
      ]
     },
     "execution_count": 3,
     "metadata": {},
     "output_type": "execute_result"
    }
   ],
   "source": [
    "import torch\n",
    "import torch.nn as nn\n",
    "\n",
    "\n",
    "\n",
    "class klass (nn.Module):\n",
    "    def __init__(self):\n",
    "        super().__init__()\n",
    "        self.register_buffer(\"buf\", torch.zeros(1, 1, 2*2*4))\n",
    "\n",
    "\n",
    "obj = klass()\n",
    "obj.buf.requires_grad\n"
   ]
  },
  {
   "cell_type": "code",
   "execution_count": 4,
   "metadata": {},
   "outputs": [],
   "source": [
    "def fill_out_masked_tokens(x:torch.Tensor, stub_token:torch.Tensor, idx_restore:torch.Tensor):\n",
    "    \"\"\"\n",
    "        x -> B, keep_length, C\n",
    "        filler_mask_token -> 1, 1, C just a stub\n",
    "        idx_restore -> B, T (which indices to index into to get a sequence that respects original noise\n",
    "        which we sorted and selected first keep_length indices)\n",
    "    \"\"\"\n",
    "    masked_out_length = idx_restore.shape[1]-x.shape[1] # the tokens that DIT doesnt even see, 75% of og tokens\n",
    "    filler_mask_tokens = stub_token.repeat (x.shape[0], masked_out_length, 1)\n",
    "    \n",
    "    x_og_kappa = torch.cat ((x, filler_mask_tokens), dim=1)\n",
    "    restore_gather_index = idx_restore.unsqueeze(-1).repeat(1, 1, x.shape[-1])\n",
    "    x_og_kappa = torch.gather (x_og_kappa, dim=1, index=restore_gather_index)\n",
    "    return x_og_kappa"
   ]
  },
  {
   "cell_type": "code",
   "execution_count": null,
   "metadata": {},
   "outputs": [],
   "source": [
    "filler_mask_tokens = obj.buf.repeat(4, 8, 1)"
   ]
  },
  {
   "cell_type": "code",
   "execution_count": 8,
   "metadata": {},
   "outputs": [
    {
     "data": {
      "text/plain": [
       "False"
      ]
     },
     "execution_count": 8,
     "metadata": {},
     "output_type": "execute_result"
    }
   ],
   "source": [
    "filler_mask_tokens.requires_grad"
   ]
  },
  {
   "cell_type": "code",
   "execution_count": null,
   "metadata": {},
   "outputs": [],
   "source": []
  }
 ],
 "metadata": {
  "kernelspec": {
   "display_name": "tr",
   "language": "python",
   "name": "python3"
  },
  "language_info": {
   "codemirror_mode": {
    "name": "ipython",
    "version": 3
   },
   "file_extension": ".py",
   "mimetype": "text/x-python",
   "name": "python",
   "nbconvert_exporter": "python",
   "pygments_lexer": "ipython3",
   "version": "3.9.21"
  }
 },
 "nbformat": 4,
 "nbformat_minor": 2
}
