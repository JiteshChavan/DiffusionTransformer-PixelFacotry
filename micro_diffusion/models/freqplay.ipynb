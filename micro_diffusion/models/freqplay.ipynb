{
 "cells": [
  {
   "cell_type": "code",
   "execution_count": 21,
   "metadata": {},
   "outputs": [
    {
     "data": {
      "text/plain": [
       "torch.Size([5])"
      ]
     },
     "execution_count": 21,
     "metadata": {},
     "output_type": "execute_result"
    }
   ],
   "source": [
    "import torch\n",
    "import torch.nn as nn\n",
    "import math\n",
    "max_period = 100\n",
    "dim = 10\n",
    "half = dim // 2\n",
    "freqs = torch.exp (\n",
    "    # divide by half at the end so that we dont get absurdly small numebrs\n",
    "    -math.log(max_period) * (torch.arange(start=0, end=half, dtype=torch.float32, device='cuda'))/half\n",
    ")\n",
    "\n",
    "freqs.shape\n",
    "\n",
    "# 4\n",
    "# -2 * (0 , 1, 2, 3)\n",
    "# (0, -2, -4, -6) / 4\n",
    "# (0, -0.5, -1, -1.5)"
   ]
  },
  {
   "cell_type": "code",
   "execution_count": 22,
   "metadata": {},
   "outputs": [
    {
     "data": {
      "text/plain": [
       "(torch.Size([1, 1]),\n",
       " torch.Size([1]),\n",
       " torch.Size([1, 1]),\n",
       " True,\n",
       " torch.Size([5]))"
      ]
     },
     "execution_count": 22,
     "metadata": {},
     "output_type": "execute_result"
    }
   ],
   "source": [
    "t = torch.tensor([5])\n",
    "\n",
    "t[:, None].shape, t.shape, t.unsqueeze(1).shape, torch.allclose(t[:, None], t.unsqueeze(1)), freqs.shape"
   ]
  },
  {
   "cell_type": "code",
   "execution_count": 23,
   "metadata": {},
   "outputs": [
    {
     "data": {
      "text/plain": [
       "(torch.Size([1, 5]), torch.Size([5]))"
      ]
     },
     "execution_count": 23,
     "metadata": {},
     "output_type": "execute_result"
    }
   ],
   "source": [
    "#[1,1] * [5]\n",
    "scaled_sigma_t = t.unsqueeze(1).to('cuda') * freqs\n",
    "without_extra_dim = t.to('cuda') * freqs\n",
    "scaled_sigma_t.shape, without_extra_dim.shape"
   ]
  },
  {
   "cell_type": "code",
   "execution_count": 24,
   "metadata": {},
   "outputs": [
    {
     "data": {
      "text/plain": [
       "(tensor([[5.0000, 1.9905, 0.7924, 0.3155, 0.1256]], device='cuda:0'),\n",
       " torch.Size([1, 5]),\n",
       " tensor([1.0000, 0.3981, 0.1585, 0.0631, 0.0251], device='cuda:0'),\n",
       " tensor([5]))"
      ]
     },
     "execution_count": 24,
     "metadata": {},
     "output_type": "execute_result"
    }
   ],
   "source": [
    "scaled_sigma_t, scaled_sigma_t.shape, freqs, t"
   ]
  },
  {
   "cell_type": "code",
   "execution_count": 25,
   "metadata": {},
   "outputs": [
    {
     "data": {
      "text/plain": [
       "(torch.Size([1, 5]), torch.Size([1, 10]))"
      ]
     },
     "execution_count": 25,
     "metadata": {},
     "output_type": "execute_result"
    }
   ],
   "source": [
    "# now my arguments to sinusoids are \n",
    "args = scaled_sigma_t\n",
    "\n",
    "embedding = torch.cat((torch.cos(args), torch.sin(args)), dim=-1)\n",
    "assert embedding.shape[-1] == 10\n",
    "\n",
    "args.shape, embedding.shape"
   ]
  },
  {
   "cell_type": "code",
   "execution_count": 26,
   "metadata": {},
   "outputs": [
    {
     "data": {
      "text/plain": [
       "tensor([[0.]], device='cuda:0')"
      ]
     },
     "execution_count": 26,
     "metadata": {},
     "output_type": "execute_result"
    }
   ],
   "source": [
    "torch.zeros_like(embedding[:, :1])"
   ]
  },
  {
   "cell_type": "code",
   "execution_count": 27,
   "metadata": {},
   "outputs": [
    {
     "data": {
      "text/plain": [
       "True"
      ]
     },
     "execution_count": 27,
     "metadata": {},
     "output_type": "execute_result"
    }
   ],
   "source": [
    "# append bias term (0 freq component)\n",
    "torch.allclose(torch.zeros_like(embedding[:, 0]), torch.zeros_like(embedding[:, :1]))"
   ]
  },
  {
   "cell_type": "code",
   "execution_count": null,
   "metadata": {},
   "outputs": [],
   "source": []
  },
  {
   "cell_type": "code",
   "execution_count": 28,
   "metadata": {},
   "outputs": [
    {
     "data": {
      "text/plain": [
       "True"
      ]
     },
     "execution_count": 28,
     "metadata": {},
     "output_type": "execute_result"
    }
   ],
   "source": [
    "scaled_sigma_t = t.unsqueeze(1).to('cuda') * freqs.to('cuda')\n",
    "bullshit = t[:, None].float().to('cuda') * freqs[None].to('cuda')\n",
    "torch.allclose(scaled_sigma_t, bullshit)"
   ]
  },
  {
   "cell_type": "code",
   "execution_count": 30,
   "metadata": {},
   "outputs": [],
   "source": [
    "class TimestepEmbedder(nn.Module):\n",
    "    \"\"\"Embeds scalar timesteps into vector representations.\n",
    "    \n",
    "    Args:\n",
    "        hidden_size (int): Size of hidden dimension\n",
    "        act_layer (Any): Activation layer constructor\n",
    "        frequency_embedding_size (int, 512): Size of frequency embedding\n",
    "    \"\"\"\n",
    "    def __init__(\n",
    "        self,\n",
    "        hidden_size: int,\n",
    "        act_layer,\n",
    "        frequency_embedding_size: int = 512\n",
    "    ):\n",
    "        super().__init__()\n",
    "        self.mlp = nn.Sequential(\n",
    "            nn.Linear(frequency_embedding_size, hidden_size, bias=True),\n",
    "            act_layer,\n",
    "            nn.Linear(hidden_size, hidden_size, bias=True),\n",
    "        )\n",
    "        self.frequency_embedding_size = frequency_embedding_size\n",
    "\n",
    "    def forward(self, x):\n",
    "        #print (self.dtype)\n",
    "        return x"
   ]
  },
  {
   "cell_type": "code",
   "execution_count": 31,
   "metadata": {},
   "outputs": [
    {
     "data": {
      "text/plain": [
       "1"
      ]
     },
     "execution_count": 31,
     "metadata": {},
     "output_type": "execute_result"
    }
   ],
   "source": [
    "a = TimestepEmbedder(1, nn.GELU(), 512)\n",
    "a(1)"
   ]
  },
  {
   "cell_type": "code",
   "execution_count": 32,
   "metadata": {},
   "outputs": [
    {
     "data": {
      "text/plain": [
       "__main__.TimestepEmbedder"
      ]
     },
     "execution_count": 32,
     "metadata": {},
     "output_type": "execute_result"
    }
   ],
   "source": [
    "type(a)"
   ]
  },
  {
   "cell_type": "code",
   "execution_count": null,
   "metadata": {},
   "outputs": [],
   "source": []
  }
 ],
 "metadata": {
  "kernelspec": {
   "display_name": "tr2",
   "language": "python",
   "name": "python3"
  },
  "language_info": {
   "codemirror_mode": {
    "name": "ipython",
    "version": 3
   },
   "file_extension": ".py",
   "mimetype": "text/x-python",
   "name": "python",
   "nbconvert_exporter": "python",
   "pygments_lexer": "ipython3",
   "version": "3.9.19"
  }
 },
 "nbformat": 4,
 "nbformat_minor": 2
}
